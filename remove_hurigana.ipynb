{
 "cells": [
  {
   "cell_type": "code",
   "execution_count": 3,
   "metadata": {},
   "outputs": [],
   "source": [
    "from PIL import Image\n",
    "\n",
    "import cv2\n",
    "import numpy as np\n",
    "from matplotlib import pyplot as plt\n",
    "import pyocr\n",
    "import pyocr.builders\n",
    "%matplotlib inline\n",
    "\n",
    "from modules import preprocess"
   ]
  },
  {
   "cell_type": "code",
   "execution_count": 12,
   "metadata": {},
   "outputs": [],
   "source": [
    "img_path = \"/Users/Chihiro/Desktop/corrected20200412_1.png\"\n",
    "# img_path = \"/Users/Chihiro/Desktop/corrected20200412_1_bin.png\"\n",
    "img = cv2.imread(img_path)\n",
    "\n",
    "\n",
    "img = cv2.bitwise_not(img)"
   ]
  },
  {
   "cell_type": "code",
   "execution_count": 13,
   "metadata": {},
   "outputs": [],
   "source": [
    "tool = pyocr.get_available_tools()[0]"
   ]
  },
  {
   "cell_type": "code",
   "execution_count": 44,
   "metadata": {},
   "outputs": [
    {
     "name": "stdout",
     "output_type": "stream",
     "text": [
      "ZOSEF キ FVbV ゥ q め く WVO9SoEKEKEbEbhh\n",
      "Acorus gramineus |\n",
      "| 2 |\n",
      "4 eae\n",
      "右 曹 。 水辺 に は える 常緑 多年 草 。 葉 は 多 |\n",
      "、 数 出 て 、 細長 く 光沢 が あり ます 。 根 に 独\n",
      "特 の 香り が あり ます 。\n",
      "、 シヨウ プ 科 (I サト イモ 科 ) 日 本 東 アジ アー イン ド\n",
      "、 ーーーーーーーー ジジ デジ = a! ee\n"
     ]
    },
    {
     "data": {
      "text/plain": [
       "True"
      ]
     },
     "execution_count": 44,
     "metadata": {},
     "output_type": "execute_result"
    }
   ],
   "source": [
    "img = Image.open(img_path)\n",
    "gray_img = img.convert(\"L\")\n",
    "out_img = cv2.imread(img_path)\n",
    "\n",
    "# 文字領域の取得\n",
    "# res = tool.image_to_string(Image.open(img_path),\n",
    "#                            lang=\"jpn+eng\",\n",
    "#                            builder=pyocr.builders.WordBoxBuilder(tesseract_layout=6))\n",
    "\n",
    "\n",
    "# 行領域の取得\n",
    "res = tool.image_to_string(gray_img,\n",
    "                           lang=\"jpn+eng\",\n",
    "                           builder=pyocr.builders.LineBoxBuilder(tesseract_layout=6))\n",
    "\n",
    "\n",
    "\n",
    "for d in res:\n",
    "    print(d.content)\n",
    "    cv2.rectangle(out_img, d.position[0], d.position[1], (0, 0, 255), 2)\n",
    "    \n",
    "cv2.imwrite(img_path+\"_gray.png\",out_img)\n"
   ]
  },
  {
   "cell_type": "code",
   "execution_count": 53,
   "metadata": {},
   "outputs": [
    {
     "ename": "AttributeError",
     "evalue": "'NoneType' object has no attribute 'mode'",
     "output_type": "error",
     "traceback": [
      "\u001b[0;31m---------------------------------------------------------------------------\u001b[0m",
      "\u001b[0;31mAttributeError\u001b[0m                            Traceback (most recent call last)",
      "\u001b[0;32m<ipython-input-53-b1aa637d196d>\u001b[0m in \u001b[0;36m<module>\u001b[0;34m()\u001b[0m\n\u001b[1;32m     14\u001b[0m res = tool.image_to_string(bin_img,\n\u001b[1;32m     15\u001b[0m                            \u001b[0mlang\u001b[0m\u001b[0;34m=\u001b[0m\u001b[0;34m\"jpn+eng\"\u001b[0m\u001b[0;34m,\u001b[0m\u001b[0;34m\u001b[0m\u001b[0;34m\u001b[0m\u001b[0m\n\u001b[0;32m---> 16\u001b[0;31m                            builder=pyocr.builders.LineBoxBuilder(tesseract_layout=6))\n\u001b[0m\u001b[1;32m     17\u001b[0m \u001b[0;34m\u001b[0m\u001b[0m\n\u001b[1;32m     18\u001b[0m \u001b[0;34m\u001b[0m\u001b[0m\n",
      "\u001b[0;32m~/.pyenv/versions/anaconda3-5.3.1/lib/python3.7/site-packages/pyocr/tesseract.py\u001b[0m in \u001b[0;36mimage_to_string\u001b[0;34m(image, lang, builder)\u001b[0m\n\u001b[1;32m    356\u001b[0m         \u001b[0mbuilder\u001b[0m \u001b[0;34m=\u001b[0m \u001b[0mbuilders\u001b[0m\u001b[0;34m.\u001b[0m\u001b[0mTextBuilder\u001b[0m\u001b[0;34m(\u001b[0m\u001b[0;34m)\u001b[0m\u001b[0;34m\u001b[0m\u001b[0;34m\u001b[0m\u001b[0m\n\u001b[1;32m    357\u001b[0m     \u001b[0;32mwith\u001b[0m \u001b[0mtempfile\u001b[0m\u001b[0;34m.\u001b[0m\u001b[0mTemporaryDirectory\u001b[0m\u001b[0;34m(\u001b[0m\u001b[0;34m)\u001b[0m \u001b[0;32mas\u001b[0m \u001b[0mtmpdir\u001b[0m\u001b[0;34m:\u001b[0m\u001b[0;34m\u001b[0m\u001b[0;34m\u001b[0m\u001b[0m\n\u001b[0;32m--> 358\u001b[0;31m         \u001b[0;32mif\u001b[0m \u001b[0mimage\u001b[0m\u001b[0;34m.\u001b[0m\u001b[0mmode\u001b[0m \u001b[0;34m!=\u001b[0m \u001b[0;34m\"RGB\"\u001b[0m\u001b[0;34m:\u001b[0m\u001b[0;34m\u001b[0m\u001b[0;34m\u001b[0m\u001b[0m\n\u001b[0m\u001b[1;32m    359\u001b[0m             \u001b[0mimage\u001b[0m \u001b[0;34m=\u001b[0m \u001b[0mimage\u001b[0m\u001b[0;34m.\u001b[0m\u001b[0mconvert\u001b[0m\u001b[0;34m(\u001b[0m\u001b[0;34m\"RGB\"\u001b[0m\u001b[0;34m)\u001b[0m\u001b[0;34m\u001b[0m\u001b[0;34m\u001b[0m\u001b[0m\n\u001b[1;32m    360\u001b[0m         \u001b[0mimage\u001b[0m\u001b[0;34m.\u001b[0m\u001b[0msave\u001b[0m\u001b[0;34m(\u001b[0m\u001b[0mos\u001b[0m\u001b[0;34m.\u001b[0m\u001b[0mpath\u001b[0m\u001b[0;34m.\u001b[0m\u001b[0mjoin\u001b[0m\u001b[0;34m(\u001b[0m\u001b[0mtmpdir\u001b[0m\u001b[0;34m,\u001b[0m \u001b[0;34m\"input.bmp\"\u001b[0m\u001b[0;34m)\u001b[0m\u001b[0;34m)\u001b[0m\u001b[0;34m\u001b[0m\u001b[0;34m\u001b[0m\u001b[0m\n",
      "\u001b[0;31mAttributeError\u001b[0m: 'NoneType' object has no attribute 'mode'"
     ]
    }
   ],
   "source": [
    "img = Image.open(img_path)\n",
    "gray_img = img.convert(\"L\")\n",
    "bin_img = gray_img.point(lambda x: 0 if x < 230 else x)  \n",
    "bin_img = bin_img.thumbnail((1400, 1000), Image.LANCZOS)\n",
    "out_img = cv2.imread(img_path)\n",
    "\n",
    "# 文字領域の取得\n",
    "# res = tool.image_to_string(Image.open(img_path),\n",
    "#                            lang=\"jpn+eng\",\n",
    "#                            builder=pyocr.builders.WordBoxBuilder(tesseract_layout=6))\n",
    "\n",
    "\n",
    "# 行領域の取得\n",
    "res = tool.image_to_string(bin_img,\n",
    "                           lang=\"jpn+eng\",\n",
    "                           builder=pyocr.builders.LineBoxBuilder(tesseract_layout=6))\n",
    "\n",
    "\n",
    "\n",
    "for d in res:\n",
    "    print(d.content)\n",
    "    cv2.rectangle(out_img, d.position[0], d.position[1], (0, 0, 255), 2)\n",
    "    \n",
    "cv2.imwrite(img_path+\"_bin.png\",out_img)\n"
   ]
  },
  {
   "cell_type": "code",
   "execution_count": null,
   "metadata": {},
   "outputs": [],
   "source": []
  },
  {
   "cell_type": "code",
   "execution_count": null,
   "metadata": {},
   "outputs": [],
   "source": []
  },
  {
   "cell_type": "code",
   "execution_count": null,
   "metadata": {},
   "outputs": [],
   "source": []
  }
 ],
 "metadata": {
  "file_extension": ".py",
  "kernelspec": {
   "display_name": "Python 3.7.2 64-bit ('anaconda3-5.3.1': conda)",
   "language": "python",
   "name": "python37264bitanaconda3531condaa89e801032144e98b46a2dbcbb5560b0"
  },
  "language_info": {
   "codemirror_mode": {
    "name": "ipython",
    "version": 3
   },
   "file_extension": ".py",
   "mimetype": "text/x-python",
   "name": "python",
   "nbconvert_exporter": "python",
   "pygments_lexer": "ipython3",
   "version": "3.7.2"
  },
  "mimetype": "text/x-python",
  "name": "python",
  "npconvert_exporter": "python",
  "pygments_lexer": "ipython3",
  "version": 3
 },
 "nbformat": 4,
 "nbformat_minor": 2
}
