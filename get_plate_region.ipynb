{
 "cells": [
  {
   "cell_type": "code",
   "execution_count": 1,
   "metadata": {},
   "outputs": [],
   "source": [
    "import cv2\n",
    "import numpy as np\n",
    "from matplotlib import pyplot as plt\n",
    "from pylsd.lsd import lsd\n",
    "%matplotlib inline"
   ]
  },
  {
   "cell_type": "code",
   "execution_count": 2,
   "metadata": {},
   "outputs": [],
   "source": [
    "img_path = \"/Users/Chihiro/Personal/10_Projects/GPC/get_plant_plate_txt/image/20200411_1.jpg\"\n",
    "output_dir = \"/Users/Chihiro/Desktop/\""
   ]
  },
  {
   "cell_type": "code",
   "execution_count": 77,
   "metadata": {},
   "outputs": [],
   "source": [
    "def get_lines_hough(img, img_gray):\n",
    "    #     ハフ変換\n",
    "    lines = cv2.HoughLines(img_gray, \n",
    "                            rho=1, \n",
    "                            theta=np.pi/360, \n",
    "                            threshold=1000)\n",
    "    print(len(lines))\n",
    "    \n",
    "    # 検出した線の描画\n",
    "    for line in lines:\n",
    "        for rho, theta in line:\n",
    "            a = np.cos(theta)\n",
    "            b = np.sin(theta)\n",
    "            x0 = a*rho\n",
    "            y0 = b*rho\n",
    "            x1 = int(x0 + 1000*(-b))\n",
    "            y1 = int(y0 + 1000*(a))\n",
    "            x2 = int(x0 - 1000*(-b))\n",
    "            y2 = int(y0 - 1000*(a))\n",
    "\n",
    "            cv2.line(img, (x1, y1), (x2, y2), (0, 0, 255), 10)\n",
    "    cv2.imwrite(output_dir + \"lines_hough.png\", img)"
   ]
  },
  {
   "cell_type": "code",
   "execution_count": 88,
   "metadata": {},
   "outputs": [],
   "source": [
    "def get_lines_hough_p(img, img_gray):\n",
    "    img_g = cv2.GaussianBlur(img_gray,(5,5),1)\n",
    "    lower = 10\n",
    "    upper = 250\n",
    "    img_g = cv2.Canny(img_g,lower,upper,apertureSize = 3)\n",
    "    linesH = cv2.HoughLinesP(img_g, rho=1, theta=np.pi/360, threshold=30, minLineLength=50, maxLineGap=5)\n",
    "    \n",
    "    print(len(linesH))\n",
    "    for line in linesH:\n",
    "        x1, y1, x2, y2 = line[0]\n",
    "\n",
    "        # 赤線を引く\n",
    "        img = cv2.line(img, (x1,y1), (x2,y2), (0,0,255), 10)\n",
    "    cv2.imwrite(output_dir + \"lines_houghp.png\", img) "
   ]
  },
  {
   "cell_type": "code",
   "execution_count": 5,
   "metadata": {},
   "outputs": [],
   "source": [
    "def get_lines_LSD(img, img_gray):\n",
    "    lines = lsd(img_gray)\n",
    "    for line in lines:\n",
    "        x1, y1, x2, y2 = map(int,line[:4])\n",
    "        img = cv2.line(img, (x1,y1), (x2,y2), (0,0,255), 3)\n",
    "        if (x2-x1)**2 + (y2-y1)**2 > 1000:\n",
    "           # 赤線を引く\n",
    "           img = cv2.line(img, (x1,y1), (x2,y2), (0,0,255), 3)\n",
    "            \n",
    "    cv2.imwrite(output_dir + \"lines_LSD.png\", img) "
   ]
  },
  {
   "cell_type": "code",
   "execution_count": 84,
   "metadata": {},
   "outputs": [],
   "source": [
    "def get_lines(base_img, img):\n",
    "#     img_gray = cv2.cvtColor(img, cv2.COLOR_BGR2GRAY)\n",
    "    img_gray = img\n",
    "#     直線検出（ハフ変換)\n",
    "#     get_lines_hough(base_img, img_gray)\n",
    "    \n",
    "# #     直線検出（確率的ハフ変換）\n",
    "    get_lines_hough_p(base_img, img_gray)\n",
    "\n",
    "# #     直線検出（LSD）\n",
    "#     get_lines_LSD(img, img_gray)"
   ]
  },
  {
   "cell_type": "code",
   "execution_count": 51,
   "metadata": {},
   "outputs": [],
   "source": [
    "def mask_img(img):\n",
    "#     RGBの比率とGの量を元にマスクできないか試す。\n",
    "#     RGBの各値が70未満の値は0にする\n",
    "#         ⇨プレートだけ、目立つようにはできなかった。\n",
    "#     img = np.where(img >= 60, 255,0).astype('uint8')\n",
    "\n",
    "#     上から下に一行ずつループ\n",
    "    for i_row, row in enumerate(img):\n",
    "        print(i_row)\n",
    "        for i_column, column in enumerate(row):\n",
    "            B, G, R = column[0], column[1], column[2]\n",
    "            if (91 >= B) and (B >= 71):\n",
    "                if  (92>=G) and  (G >= 62):\n",
    "                    if (32 >= R) and (R >= 12):\n",
    "                        img[i_row][i_column] = np.array([0, 0, 0])\n",
    "                    else:\n",
    "                         img[i_row][i_column] = np.array([255, 255, 255])\n",
    "                else:\n",
    "                     img[i_row][i_column] = np.array([255, 255, 255])\n",
    "            else:\n",
    "                img[i_row][i_column] = np.array([255, 255, 255])\n",
    "\n",
    "\n",
    "#     img = cv2.cvtColor(img, cv2.COLOR_BGR2RGB)\n",
    "#     plt.imshow(img)\n",
    "#     plt.show()\n",
    "    return img"
   ]
  },
  {
   "cell_type": "code",
   "execution_count": 54,
   "metadata": {},
   "outputs": [],
   "source": [
    "def binalize(img):\n",
    "    img_gray = cv2.cvtColor(img, cv2.COLOR_RGB2GRAY)\n",
    "#     img_gray = cv2.GaussianBlur(img_gray,(5,5),0)\n",
    "        \n",
    "    #  二値化 \n",
    "    retval, img_bin = cv2.threshold(img_gray,220,255,cv2.THRESH_BINARY)\n",
    "    \n",
    "    # 大津の二値化 \n",
    "#     retval, img_bin = cv2.threshold(img_gray, 0, 255, cv2.THRESH_OTSU)\n",
    "    \n",
    "    #出力\n",
    "    cv2.imwrite(output_dir + \"binaly_bin_220.png\", img_bin)\n",
    "    return img_bin"
   ]
  },
  {
   "cell_type": "code",
   "execution_count": 89,
   "metadata": {},
   "outputs": [
    {
     "name": "stdout",
     "output_type": "stream",
     "text": [
      "212\n"
     ]
    }
   ],
   "source": [
    "base_img = cv2.imread(img_path)\n",
    "img = base_img\n",
    "# img_masked = mask_img(img)\n",
    "img_bin = binalize(edited_img)\n",
    "get_lines(base_img, img_bin)"
   ]
  },
  {
   "cell_type": "code",
   "execution_count": null,
   "metadata": {},
   "outputs": [],
   "source": []
  },
  {
   "cell_type": "code",
   "execution_count": null,
   "metadata": {},
   "outputs": [],
   "source": []
  },
  {
   "cell_type": "code",
   "execution_count": null,
   "metadata": {},
   "outputs": [],
   "source": []
  },
  {
   "cell_type": "code",
   "execution_count": null,
   "metadata": {},
   "outputs": [],
   "source": []
  },
  {
   "cell_type": "code",
   "execution_count": null,
   "metadata": {},
   "outputs": [],
   "source": []
  },
  {
   "cell_type": "code",
   "execution_count": null,
   "metadata": {},
   "outputs": [],
   "source": []
  }
 ],
 "metadata": {
  "file_extension": ".py",
  "kernelspec": {
   "display_name": "Python 3.7.2 64-bit ('anaconda3-5.3.1': conda)",
   "language": "python",
   "name": "python37264bitanaconda3531condaa89e801032144e98b46a2dbcbb5560b0"
  },
  "language_info": {
   "codemirror_mode": {
    "name": "ipython",
    "version": 3
   },
   "file_extension": ".py",
   "mimetype": "text/x-python",
   "name": "python",
   "nbconvert_exporter": "python",
   "pygments_lexer": "ipython3",
   "version": "3.7.2"
  },
  "mimetype": "text/x-python",
  "name": "python",
  "npconvert_exporter": "python",
  "pygments_lexer": "ipython3",
  "version": 3
 },
 "nbformat": 4,
 "nbformat_minor": 2
}
