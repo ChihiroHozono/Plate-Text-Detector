{
 "cells": [
  {
   "cell_type": "code",
   "execution_count": 1,
   "metadata": {},
   "outputs": [],
   "source": [
    "import cv2\n",
    "import numpy as np\n",
    "from matplotlib import pyplot as plt\n",
    "from pylsd.lsd import lsd\n",
    "%matplotlib inline\n",
    "\n",
    "from modules import preprocessing"
   ]
  },
  {
   "cell_type": "code",
   "execution_count": 2,
   "metadata": {},
   "outputs": [],
   "source": [
    "img_path = \"/Users/Chihiro/Personal/10_Projects/GPC/get_plant_plate_txt/image/20200411_1.jpg\"\n",
    "output_dir = \"/Users/Chihiro/Desktop/\""
   ]
  },
  {
   "cell_type": "code",
   "execution_count": 3,
   "metadata": {},
   "outputs": [],
   "source": [
    "def get_lines(base_img, img):\n",
    "    \n",
    "    return_img = np.full_like(img, 255, dtype=np.uint8)\n",
    "    #直線検出（ハフ変換)\n",
    "#     lines = cv2.HoughLines(img, \n",
    "#                         rho=1, \n",
    "#                         theta=np.pi/360, \n",
    "#                         threshold=50)\n",
    "\n",
    "     # 直線検出（確率的ハフ変換）\n",
    "    lines = cv2.HoughLinesP(img, \n",
    "                                                rho=1, \n",
    "                                                theta=np.pi/360, \n",
    "                                                threshold=50, \n",
    "                                                minLineLength=500, \n",
    "                                                maxLineGap=3)\n",
    "\n",
    "#     #直線検出（LSD）\n",
    "#     lines = lsd(img)\n",
    "    \n",
    "    print(len(lines))\n",
    "\n",
    "    \n",
    "    for line in lines:\n",
    "        x1, y1, x2, y2 = line[0]\n",
    "        \n",
    "        \n",
    "\n",
    "        # 赤線を引く\n",
    "        line_img = cv2.line(return_img, (x1,y1), (x2,y2), (0,0,255), 10)\n",
    "\n",
    "    return return_img"
   ]
  },
  {
   "cell_type": "code",
   "execution_count": 4,
   "metadata": {},
   "outputs": [],
   "source": [
    "def binalize(img):\n",
    "    img_gray = cv2.cvtColor(img, cv2.COLOR_RGB2GRAY)\n",
    "#     img_gray = cv2.GaussianBlur(img_gray,(5,5),0)\n",
    "    \n",
    "    \n",
    "    #  二値化 \n",
    "#     low_thr = 200\n",
    "#     hight_thr = 255\n",
    "#     retval, img_bin = cv2.threshold(img_gray,low_thr,hight_thr,cv2.THRESH_BINARY)\n",
    "    \n",
    "    # 大津の二値化 \n",
    "    low_thr = 0\n",
    "    hight_thr = 255\n",
    "    retval, img_bin = cv2.threshold(img_gray, low_thr, hight_thr, cv2.THRESH_OTSU)\n",
    "\n",
    "#     適応的閾値処理による二値化\n",
    "#     img_bin = cv2.adaptiveThreshold(img_gray, 255, cv2.ADAPTIVE_THRESH_GAUSSIAN_C, cv2.THRESH_BINARY, 39,2)\n",
    "    \n",
    "    return img_bin"
   ]
  },
  {
   "cell_type": "code",
   "execution_count": 43,
   "metadata": {},
   "outputs": [],
   "source": [
    "def get_contour(org_img, img):\n",
    "    \n",
    "    contours_img = org_img\n",
    "    \n",
    "    #   領域の抽出\n",
    "    img, contours, hierarchy = cv2.findContours(img, cv2.RETR_CCOMP, cv2.CHAIN_APPROX_SIMPLE)\n",
    "\n",
    "\n",
    "\n",
    "     # 面積の表示\n",
    "    contour_areas = {}\n",
    "    for i, contour in enumerate(contours):\n",
    "        area = cv2.contourArea(contour)\n",
    "        contour_areas[i] = area\n",
    "        \n",
    "    \n",
    "    \n",
    "#     面積が最大のindexを取得（面積が大きすぎるものは省いた方が良い）\n",
    "#     max_area = sorted(contour_areas.values(),reverse=True)[0]\n",
    "    max_area = max(contour_areas.values())\n",
    "    max_area_idx = [i for i, v in contour_areas.items() if v == max_area][0]\n",
    "    \n",
    "    max_contour = contours[max_area_idx]\n",
    "    arc_len = cv2.arcLength(max_contour, True)\n",
    "        \n",
    "    # 輪郭を近似\n",
    "    approx_contour = cv2.approxPolyDP(max_contour, epsilon=0.05 * arc_len, closed=True)\n",
    "    \n",
    "    cv2.drawContours(contours_img, approx_contour, -1, (0,255,0), 30)\n",
    "    cv2.imwrite(f\"{output_dir}approx_contour.png\",contours_img)\n",
    "\n",
    "    return approx_contour"
   ]
  },
  {
   "cell_type": "code",
   "execution_count": 6,
   "metadata": {},
   "outputs": [],
   "source": [
    "def noise_reduction(img):\n",
    "#     kernel = np.ones((10,10)) # カーネルサイズの調整が必要そう\n",
    "#     img = cv2.morphologyEx(img, cv2.MORPH_OPEN, kernel)\n",
    "    img = cv2.medianBlur(img,15)\n",
    "    return img"
   ]
  },
  {
   "cell_type": "code",
   "execution_count": 25,
   "metadata": {},
   "outputs": [],
   "source": [
    "img = cv2.imread(img_path)\n",
    "masked_img = preprocessing.mask_img(img)"
   ]
  },
  {
   "cell_type": "code",
   "execution_count": 34,
   "metadata": {},
   "outputs": [],
   "source": [
    "img = noise_reduction(masked_img)"
   ]
  },
  {
   "cell_type": "code",
   "execution_count": 35,
   "metadata": {},
   "outputs": [],
   "source": [
    "org_img = cv2.imread(img_path)\n",
    "bin_img = binalize(img)\n",
    "edge_img = cv2.Canny(bin_img,10,255,apertureSize = 3)"
   ]
  },
  {
   "cell_type": "code",
   "execution_count": 36,
   "metadata": {},
   "outputs": [],
   "source": [
    "# 画像の膨張・縮小\n",
    "kernel = np.ones((5,5),np.uint8)\n",
    "\n",
    "dilation_img = cv2.dilate(edge_img,kernel,iterations = 10)\n",
    "erode_img = cv2.erode(dilation_img,kernel,iterations = 3)"
   ]
  },
  {
   "cell_type": "code",
   "execution_count": 46,
   "metadata": {},
   "outputs": [],
   "source": [
    "# プレート四隅の座標取得\n",
    "contour = get_contour(org_img, erode_img)"
   ]
  },
  {
   "cell_type": "code",
   "execution_count": 97,
   "metadata": {},
   "outputs": [
    {
     "data": {
      "text/plain": [
       "True"
      ]
     },
     "execution_count": 97,
     "metadata": {},
     "output_type": "execute_result"
    }
   ],
   "source": [
    "# 歪み補正\n",
    "def get_plate_img(contour) :\n",
    "    approx=contours_points.tolist()\n",
    "\n",
    "    left = sorted(approx,key=lambda x:x[0]) [:2]\n",
    "    right = sorted(approx,key=lambda x:x[0]) [2:]\n",
    "\n",
    "    left_down= sorted(left,key=lambda x:x[0][1]) [0]\n",
    "    left_up= sorted(left,key=lambda x:x[0][1]) [1]\n",
    "    right_down= sorted(right,key=lambda x:x[0][1]) [0]\n",
    "    right_up= sorted(right,key=lambda x:x[0][1]) [1]\n",
    "\n",
    "\n",
    "\n",
    "    perspective_base = np.float32([left_down,right_down,right_up,left_up])\n",
    "    perspective = np.float32([[0, 0],[700, 0],[700, 500],[0, 500]])\n",
    "\n",
    "\n",
    "    psp_matrix = cv2.getPerspectiveTransform(perspective_base, perspective)\n",
    "    img_psp = cv2.warpPerspective(org_img, psp_matrix,(700,500))\n",
    "\n",
    "\n",
    "return img_psp"
   ]
  },
  {
   "cell_type": "code",
   "execution_count": 96,
   "metadata": {},
   "outputs": [
    {
     "data": {
      "text/plain": [
       "True"
      ]
     },
     "execution_count": 96,
     "metadata": {},
     "output_type": "execute_result"
    }
   ],
   "source": [
    "cv2.imwrite(f\"{output_dir}psp_erode_img.png\",psp_erode_img)"
   ]
  },
  {
   "cell_type": "code",
   "execution_count": null,
   "metadata": {},
   "outputs": [],
   "source": []
  },
  {
   "cell_type": "code",
   "execution_count": null,
   "metadata": {},
   "outputs": [],
   "source": []
  },
  {
   "cell_type": "code",
   "execution_count": null,
   "metadata": {},
   "outputs": [],
   "source": []
  }
 ],
 "metadata": {
  "file_extension": ".py",
  "kernelspec": {
   "display_name": "Python 3.7.2 64-bit ('anaconda3-5.3.1': conda)",
   "language": "python",
   "name": "python37264bitanaconda3531condaa89e801032144e98b46a2dbcbb5560b0"
  },
  "language_info": {
   "codemirror_mode": {
    "name": "ipython",
    "version": 3
   },
   "file_extension": ".py",
   "mimetype": "text/x-python",
   "name": "python",
   "nbconvert_exporter": "python",
   "pygments_lexer": "ipython3",
   "version": "3.7.2"
  },
  "mimetype": "text/x-python",
  "name": "python",
  "npconvert_exporter": "python",
  "pygments_lexer": "ipython3",
  "version": 3
 },
 "nbformat": 4,
 "nbformat_minor": 2
}
