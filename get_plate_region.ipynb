{
 "cells": [
  {
   "cell_type": "code",
   "execution_count": 101,
   "metadata": {},
   "outputs": [],
   "source": [
    "import cv2\n",
    "import cv2\n",
    "import numpy as np\n",
    "from matplotlib import pyplot as plt\n",
    "from pylsd.lsd import lsd\n",
    "%matplotlib inline"
   ]
  },
  {
   "cell_type": "code",
   "execution_count": 102,
   "metadata": {},
   "outputs": [],
   "source": [
    "img_path = \"/Users/Chihiro/Personal/10_Projects/GPC/get_plant_plate_txt/image/20200411_1.jpg\"\n",
    "output_dir = \"/Users/Chihiro/Desktop/\""
   ]
  },
  {
   "cell_type": "code",
   "execution_count": 187,
   "metadata": {},
   "outputs": [],
   "source": [
    "def mask_img(img):\n",
    "    img_gray = cv2.cvtColor(img, cv2.COLOR_BGR2GRAY)\n",
    "    \n",
    "# #     ハフ変換\n",
    "#     lines = cv2.HoughLines(img_gray, \n",
    "#                             rho=1, \n",
    "#                             theta=np.pi/360, \n",
    "#                             threshold=4450)\n",
    "#     print(len(lines))\n",
    "    \n",
    "#     # 検出した線の描画\n",
    "#     for line in lines:\n",
    "#         for rho, theta in line:\n",
    "#             a = np.cos(theta)\n",
    "#             b = np.sin(theta)\n",
    "#             x0 = a*rho\n",
    "#             y0 = b*rho\n",
    "#             x1 = int(x0 + 1000*(-b))\n",
    "#             y1 = int(y0 + 1000*(a))\n",
    "#             x2 = int(x0 - 1000*(-b))\n",
    "#             y2 = int(y0 - 1000*(a))\n",
    "\n",
    "#             cv2.line(img, (x1, y1), (x2, y2), (0, 0, 255), 2)\n",
    "#     cv2.imwrite(output_dir + \"lines.png\", img)\n",
    "\n",
    "    img_g = cv2.GaussianBlur(img_gray,(5,5),5)\n",
    "    img_g = cv2.Canny(img_g,50,150,apertureSize = 3)\n",
    "    linesH = cv2.HoughLinesP(img_g, rho=1, theta=np.pi/360, threshold=100, minLineLength=100, maxLineGap=1)\n",
    "    \n",
    "    for line in linesH:\n",
    "        x1, y1, x2, y2 = line[0]\n",
    "\n",
    "        # 赤線を引く\n",
    "        img = cv2.line(img, (x1,y1), (x2,y2), (0,0,255), 10)\n",
    "\n",
    "\n",
    "#     LSD\n",
    "    lines = lsd(img_gray)\n",
    "#     for line in lines:\n",
    "#         x1, y1, x2, y2 = map(int,line[:4])\n",
    "#         img = cv2.line(img, (x1,y1), (x2,y2), (0,0,255), 3)\n",
    "#         if (x2-x1)**2 + (y2-y1)**2 > 1000:\n",
    "#            # 赤線を引く\n",
    "#            img = cv2.line(img, (x1,y1), (x2,y2), (0,0,255), 3)\n",
    "            \n",
    "            \n",
    "    cv2.imwrite(output_dir + \"lines.png\", img) "
   ]
  },
  {
   "cell_type": "code",
   "execution_count": 188,
   "metadata": {},
   "outputs": [],
   "source": [
    "def detect_contour(path):\n",
    "    img = cv2.imread(img_path)\n",
    "    masked_img = mask_img(img)"
   ]
  },
  {
   "cell_type": "code",
   "execution_count": 189,
   "metadata": {},
   "outputs": [],
   "source": [
    "detect_contour(img_path)"
   ]
  },
  {
   "cell_type": "code",
   "execution_count": null,
   "metadata": {},
   "outputs": [],
   "source": []
  },
  {
   "cell_type": "code",
   "execution_count": null,
   "metadata": {},
   "outputs": [],
   "source": []
  },
  {
   "cell_type": "code",
   "execution_count": null,
   "metadata": {},
   "outputs": [],
   "source": []
  },
  {
   "cell_type": "code",
   "execution_count": null,
   "metadata": {},
   "outputs": [],
   "source": []
  },
  {
   "cell_type": "code",
   "execution_count": null,
   "metadata": {},
   "outputs": [],
   "source": []
  },
  {
   "cell_type": "code",
   "execution_count": null,
   "metadata": {},
   "outputs": [],
   "source": []
  },
  {
   "cell_type": "code",
   "execution_count": null,
   "metadata": {},
   "outputs": [],
   "source": []
  }
 ],
 "metadata": {
  "file_extension": ".py",
  "kernelspec": {
   "display_name": "Python 3.7.2 64-bit ('anaconda3-5.3.1': conda)",
   "language": "python",
   "name": "python37264bitanaconda3531condaa89e801032144e98b46a2dbcbb5560b0"
  },
  "language_info": {
   "codemirror_mode": {
    "name": "ipython",
    "version": 3
   },
   "file_extension": ".py",
   "mimetype": "text/x-python",
   "name": "python",
   "nbconvert_exporter": "python",
   "pygments_lexer": "ipython3",
   "version": "3.7.2"
  },
  "mimetype": "text/x-python",
  "name": "python",
  "npconvert_exporter": "python",
  "pygments_lexer": "ipython3",
  "version": 3
 },
 "nbformat": 4,
 "nbformat_minor": 2
}
