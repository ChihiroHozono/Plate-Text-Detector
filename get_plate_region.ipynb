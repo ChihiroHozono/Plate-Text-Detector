{
 "cells": [
  {
   "cell_type": "code",
   "execution_count": 36,
   "metadata": {},
   "outputs": [],
   "source": [
    "import cv2\n",
    "import numpy as np\n",
    "from matplotlib import pyplot as plt\n",
    "from pylsd.lsd import lsd\n",
    "%matplotlib inline"
   ]
  },
  {
   "cell_type": "code",
   "execution_count": 18,
   "metadata": {},
   "outputs": [],
   "source": [
    "img_path = \"/Users/Chihiro/Personal/10_Projects/GPC/get_plant_plate_txt/image/20200411_1.jpg\"\n",
    "output_dir = \"/Users/Chihiro/Desktop/\""
   ]
  },
  {
   "cell_type": "code",
   "execution_count": 173,
   "metadata": {},
   "outputs": [],
   "source": [
    "def get_lines(base_img, img):\n",
    "#     img_gray = cv2.cvtColor(img, cv2.COLOR_BGR2GRAY)\n",
    "    img_gray = cv2.GaussianBlur(img,(5,5),1)\n",
    "    cv2.imwrite(output_dir + \"img_gaussian.png\", img_gray)\n",
    "    lower = 10\n",
    "    upper = 250\n",
    "    img_gray = cv2.Canny(img_gray,lower,upper,apertureSize = 3)\n",
    "\n",
    "    #直線検出（ハフ変換)\n",
    "    lines = cv2.HoughLines(img_gray, \n",
    "                        rho=1, \n",
    "                        theta=np.pi/360, \n",
    "                        threshold=1000)\n",
    "\n",
    "     # 直線検出（確率的ハフ変換）\n",
    "    lines = cv2.HoughLinesP(img_gray, \n",
    "                                                rho=1, \n",
    "                                                theta=np.pi/360, \n",
    "                                                threshold=20, \n",
    "                                                minLineLength=50, \n",
    "                                                maxLineGap=5)\n",
    "\n",
    "    #直線検出（LSD）\n",
    "    lines = lsd(img_gray)\n",
    "    \n",
    "    \n",
    "    for line in linesH:\n",
    "        x1, y1, x2, y2 = line[0]\n",
    "\n",
    "        # 赤線を引く\n",
    "        img = cv2.line(img, (x1,y1), (x2,y2), (0,0,255), 10)"
   ]
  },
  {
   "cell_type": "code",
   "execution_count": 150,
   "metadata": {},
   "outputs": [],
   "source": [
    "def mask_img(img):\n",
    "    masked_img = np.full_like(img, 255,dtype=np.uint8)\n",
    "    img_HSV = cv2.cvtColor(img, cv2.COLOR_BGR2HSV)\n",
    "    \n",
    "    for i_row, row in enumerate(img_HSV):\n",
    "            for i_column, column in enumerate(row):\n",
    "                    H = column[0] * 2\n",
    "                    if (165 <= H) and (H <= 200):\n",
    "                        masked_img[i_row][i_column] = np.array([0, 0, 0],dtype=np.uint8)\n",
    "                    else:\n",
    "                        continue\n",
    "\n",
    "    return masked_img"
   ]
  },
  {
   "cell_type": "code",
   "execution_count": 106,
   "metadata": {},
   "outputs": [],
   "source": [
    "def binalize(img):\n",
    "    img_gray = cv2.cvtColor(img, cv2.COLOR_RGB2GRAY)\n",
    "#     img_gray = cv2.GaussianBlur(img_gray,(5,5),0)\n",
    "    \n",
    "    \n",
    "    #  二値化 \n",
    "#     low_thr = 200\n",
    "#     hight_thr = 255\n",
    "#     retval, img_bin = cv2.threshold(img_gray,low_thr,hight_thr,cv2.THRESH_BINARY)\n",
    "    \n",
    "    # 大津の二値化 \n",
    "    low_thr = 0\n",
    "    hight_thr = 255\n",
    "    retval, img_bin = cv2.threshold(img_gray, low_thr, hight_thr, cv2.THRESH_OTSU)\n",
    "\n",
    "#     適応的閾値処理による二値化\n",
    "#     img_bin = cv2.adaptiveThreshold(img_gray, 255, cv2.ADAPTIVE_THRESH_GAUSSIAN_C, cv2.THRESH_BINARY, 39,2)\n",
    "    \n",
    "    return img_bin"
   ]
  },
  {
   "cell_type": "code",
   "execution_count": 165,
   "metadata": {},
   "outputs": [],
   "source": [
    "def get_contours(org_img, img):\n",
    "    \n",
    "#     for i in range(2):\n",
    "#         img, contours, hierarchy = cv2.findContours(img, cv2.RETR_CCOMP, cv2.CHAIN_APPROX_SIMPLE)\n",
    "#         print(len(contours))\n",
    "#         cv2.drawContours(org_img, contours, -1, (0,255,0), 3)\n",
    "    \n",
    "#     輪郭の近似もやる？\n",
    "#     epsilon = 0.1*cv2.arcLength(cnt,True)\n",
    "#     approx = cv2.approxPolyDP(cnt,epsilon,True)\n",
    "    \n",
    "    for i in range(1):\n",
    "        img, contours, hierarchy = cv2.findContours(img, cv2.RETR_CCOMP, cv2.CHAIN_APPROX_SIMPLE)\n",
    "        print(len(contours))\n",
    "\n",
    "        for i in range(0, len(contours)):\n",
    "            if len(contours[i]) > 0:        \n",
    "                # remove small objects\n",
    "                if cv2.contourArea(contours[i]) < 500:\n",
    "                    continue\n",
    "\n",
    "            cv2.polylines(img, contours[i], True, (255, 255, 255), 5)\n",
    "            \n",
    "    return img"
   ]
  },
  {
   "cell_type": "code",
   "execution_count": 100,
   "metadata": {},
   "outputs": [],
   "source": [
    "def noise_reduction(img):\n",
    "#     kernel = np.ones((10,10)) # カーネルサイズの調整が必要そう\n",
    "#     img = cv2.morphologyEx(img, cv2.MORPH_OPEN, kernel)\n",
    "    img = cv2.medianBlur(img,15)\n",
    "    cv2.imwrite(f\"{output_dir}noise_reducted_img.png\",img)\n",
    "    return img"
   ]
  },
  {
   "cell_type": "code",
   "execution_count": 151,
   "metadata": {},
   "outputs": [],
   "source": [
    "org_img = cv2.imread(img_path)\n",
    "img = base_img\n",
    "\n",
    "img_masked = mask_img(img)"
   ]
  },
  {
   "cell_type": "code",
   "execution_count": 170,
   "metadata": {},
   "outputs": [],
   "source": [
    "img = cv2.cvtColor(img_masked, cv2.COLOR_RGB2GRAY)\n",
    "img = noise_reduction(img)"
   ]
  },
  {
   "cell_type": "code",
   "execution_count": 171,
   "metadata": {},
   "outputs": [
    {
     "name": "stdout",
     "output_type": "stream",
     "text": [
      "163\n"
     ]
    },
    {
     "data": {
      "text/plain": [
       "array([[255, 255, 255, ..., 255, 255, 255],\n",
       "       [255, 255, 255, ..., 255, 255, 255],\n",
       "       [255, 255, 255, ..., 255, 255, 255],\n",
       "       ...,\n",
       "       [  0,   0,   0, ..., 255, 255, 255],\n",
       "       [  0,   0,   0, ..., 255, 255, 255],\n",
       "       [  0,   0,   0, ..., 255, 255, 255]], dtype=uint8)"
      ]
     },
     "execution_count": 171,
     "metadata": {},
     "output_type": "execute_result"
    }
   ],
   "source": [
    "get_contours(org_img,img)"
   ]
  },
  {
   "cell_type": "code",
   "execution_count": null,
   "metadata": {},
   "outputs": [],
   "source": []
  },
  {
   "cell_type": "code",
   "execution_count": null,
   "metadata": {},
   "outputs": [],
   "source": []
  }
 ],
 "metadata": {
  "file_extension": ".py",
  "kernelspec": {
   "display_name": "Python 3.7.2 64-bit ('anaconda3-5.3.1': conda)",
   "language": "python",
   "name": "python37264bitanaconda3531condaa89e801032144e98b46a2dbcbb5560b0"
  },
  "language_info": {
   "codemirror_mode": {
    "name": "ipython",
    "version": 3
   },
   "file_extension": ".py",
   "mimetype": "text/x-python",
   "name": "python",
   "nbconvert_exporter": "python",
   "pygments_lexer": "ipython3",
   "version": "3.7.2"
  },
  "mimetype": "text/x-python",
  "name": "python",
  "npconvert_exporter": "python",
  "pygments_lexer": "ipython3",
  "version": 3
 },
 "nbformat": 4,
 "nbformat_minor": 2
}
